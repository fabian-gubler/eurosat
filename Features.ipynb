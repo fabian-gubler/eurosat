{
 "cells": [
  {
   "attachments": {},
   "cell_type": "markdown",
   "metadata": {},
   "source": [
    "Given your use case of EuroSAT satellite image classification from Sentinel-2, I recommend the following indices:\n",
    "\n",
    "NDVI (Normalized Difference Vegetation Index): Since Sentinel-2 has high-resolution red and near-infrared bands, NDVI will be helpful in distinguishing between vegetated and non-vegetated areas.\n",
    "\n",
    "NDWI (Normalized Difference Water Index) or MNDWI (Modified Normalized Difference Water Index): Both indices are useful for detecting water bodies. You may need to experiment with both to see which performs better for your specific study area.\n",
    "\n",
    "NDBI (Normalized Difference Built-up Index): This index is useful for detecting built-up and urban areas in your classification.\n",
    "\n",
    "These three indices should provide a good starting point for classifying land cover types in EuroSAT images using Sentinel-2 data. However, it's essential to evaluate their performance and adjust the selection based on the results you obtain. If you encounter difficulty distinguishing between certain land cover classes, you may want to experiment with additional indices like EVI, SAVI, or the Tasseled Cap indices (TCB, TCG, and TCW) to improve your classification accuracy."
   ]
  },
  {
   "attachments": {},
   "cell_type": "markdown",
   "metadata": {},
   "source": [
    "Yes, including some of the other bands by themselves can be beneficial for your land cover classification model, as they can provide additional information that may not be captured by the RGB bands or the indices mentioned earlier.\n",
    "\n",
    "Sentinel-2 satellite has 13 spectral bands, each with different wavelength ranges and resolutions. These bands can help discriminate specific land cover types and surface properties. Some of the bands worth considering include:\n",
    "\n",
    "Near-Infrared (NIR) band (Band 8): This band is sensitive to vegetation and can provide complementary information to the NDVI or other vegetation indices.\n",
    "\n",
    "Shortwave Infrared (SWIR) bands (Bands 11 and 12): These bands are useful for detecting moisture content, differentiating between various soil and rock types, and identifying cloud and snow cover.\n",
    "\n",
    "Red-Edge bands (Bands 5, 6, and 7): These bands capture the reflectance in the red-edge region of the spectrum, which is sensitive to chlorophyll content in vegetation. Including red-edge bands can improve the discrimination of vegetation types and stress conditions.\n",
    "\n",
    "It's important to note that incorporating more bands can increase the complexity of the model and potentially the computation time. Therefore, it is essential to strike a balance between including relevant bands and maintaining computational efficiency. Perform feature selection techniques or dimensionality reduction methods, such as Principal Component Analysis (PCA), to identify the most informative bands and indices for your specific classification problem.\n",
    "\n",
    "In summary, including additional bands by themselves can potentially improve the accuracy of your model, but it is crucial to evaluate their contribution to the classification performance and manage the model's complexity."
   ]
  },
  {
   "attachments": {},
   "cell_type": "markdown",
   "metadata": {},
   "source": [
    "## All indices"
   ]
  },
  {
   "cell_type": "code",
   "execution_count": 9,
   "metadata": {},
   "outputs": [],
   "source": [
    "import numpy as np\n",
    "import os\n",
    "import shutil\n",
    "\n",
    "# B1, B2, B3, B4, B5, B6, B7, B8, B8A, B9, B11, B12.\n",
    "\n",
    "def calculate_indices(file_path, output_path):\n",
    "    data = np.load(file_path)\n",
    "\n",
    "    # Assigning bands to variables\n",
    "    B1, B2, B3, B4, B5, B6, B7, B8, B8A, B9, B11, B12 = data\n",
    "\n",
    "    # Calculate indices\n",
    "\n",
    "    # Normalized Difference Vegetation Index (NDVI)\n",
    "    NDVI = (B8 - B4) / (B8 + B4 + 1e-6)\n",
    "\n",
    "    # Enhanced Vegetation Index (EVI)\n",
    "    EVI = 2.5 * ((B8 - B4) / ((B8 + 6 * B4 - 7.5 * B2 + 1) + 1e-6))\n",
    "\n",
    "    # Normalized Difference Water Index (NDWI)\n",
    "    NDWI = (B3 - B8) / (B3 + B8 + 1e-6)\n",
    "\n",
    "    # Normalized Difference Built-up Index (NDBI)\n",
    "    NDBI = (B11 - B8) / (B11 + B8 + 1e-6)\n",
    "\n",
    "    # Normalized Difference Snow Index (NDSI)\n",
    "    NDSI = (B3 - B11) / (B3 + B11 + 1e-6)\n",
    "\n",
    "    # Soil Adjusted Vegetation Index (SAVI)\n",
    "    L = 0.5  # soil brightness correction factor; varies between 0 (very low vegetation) and 1 (dense vegetation)\n",
    "    SAVI = ((B8 - B4) / (B8 + B4 + L + 1e-6)) * (1 + L)\n",
    "\n",
    "    # Calculate MNDWI (Modified Normalized Difference Water Index)\n",
    "    MNDWI = (B3 - B11) / (B3 + B11 + 1e-6)\n",
    "\n",
    "    # Calculate Tasseled Cap Indices (Brightness, Greenness, Wetness)\n",
    "    TCB = 0.2043 * B2 + 0.4158 * B3 + 0.5524 * B4 + 0.5741 * B8 + 0.3124 * B11 + 0.2303 * B12\n",
    "    TCG = -0.1603 * B2 - 0.2819 * B3 - 0.4934 * B4 + 0.7940 * B8 - 0.0002 * B11 - 0.1446 * B12\n",
    "    TCW = 0.0315 * B2 + 0.2021 * B3 + 0.3102 * B4 + 0.1594 * B8 - 0.6806 * B11 - 0.6109 * B12\n",
    "\n",
    "    # These calculated indices can now be used for classification tasks.\n",
    "\n",
    "    # Add a new singleton dimension to the calculated arrays along the first axis\n",
    "    NDVI = np.expand_dims(NDVI, axis=0)\n",
    "    EVI = np.expand_dims(EVI, axis=0)\n",
    "    NDWI = np.expand_dims(NDWI, axis=0)\n",
    "    NDBI = np.expand_dims(NDBI, axis=0)\n",
    "    NDSI = np.expand_dims(NDSI, axis=0)\n",
    "    SAVI = np.expand_dims(SAVI, axis=0)\n",
    "    MNDWI = np.expand_dims(MNDWI, axis=0)\n",
    "    TCB = np.expand_dims(TCB, axis=0)\n",
    "    TCG = np.expand_dims(TCG, axis=0)\n",
    "    TCW = np.expand_dims(TCW, axis=0)\n",
    "\n",
    "    # Stack the arrays along the first dimension to create the enhanced data array\n",
    "    enhanced_data = np.concatenate((data, NDVI, EVI, NDWI, NDBI, NDSI, SAVI, MNDWI, TCB, TCG, TCW), axis=0)\n",
    "    # Change the data type to float32\n",
    "    enhanced_data = enhanced_data.astype('float32')\n",
    "\n",
    "    # The shape of enhanced_data should be (12 + 10, 64, 64) = (22, 64, 64)\n",
    "    #print(enhanced_data.shape)\n",
    "\n",
    "    # Save the enhanced data as a new .npy file\n",
    "    os.makedirs(os.path.dirname(output_path), exist_ok=True)\n",
    "    np.save(output_path, enhanced_data)\n",
    "\n",
    "\n",
    "def process_folder(input_path, output_path):\n",
    "    for root, dirs, files in os.walk(input_path):\n",
    "        for file in files:\n",
    "            if file.endswith('.npy'):\n",
    "                file_path = os.path.join(root, file)\n",
    "                relative_path = os.path.relpath(file_path, input_path)\n",
    "                output_file_path = os.path.join(output_path, relative_path)\n",
    "                calculate_indices(file_path, output_file_path)\n",
    "        for dir in dirs:\n",
    "            src_dir = os.path.join(root, dir)\n",
    "            dst_dir = os.path.join(output_path, os.path.relpath(src_dir, input_path))\n",
    "            os.makedirs(dst_dir, exist_ok=True)\n",
    "\n",
    "input_folder_path = '/Users/svenschnydrig/Documents/Coding Challenge/data/EuroSAT_MS_NPY_wo_B10_ordered'\n",
    "output_folder_path = '/Users/svenschnydrig/Documents/Coding Challenge/data/EuroSAT_MS_NPY_wo_B10_ordered_features_float32'\n",
    "\n",
    "process_folder(input_folder_path, output_folder_path)"
   ]
  },
  {
   "attachments": {},
   "cell_type": "markdown",
   "metadata": {},
   "source": [
    "## Most promising indices"
   ]
  },
  {
   "cell_type": "code",
   "execution_count": null,
   "metadata": {},
   "outputs": [],
   "source": [
    "import numpy as np\n",
    "import os\n",
    "import shutil\n",
    "\n",
    "# B1, B2, B3, B4, B5, B6, B7, B8, B8A, B9, B11, B12.\n",
    "\n",
    "def calculate_indices(file_path, output_path):\n",
    "    data = np.load(file_path)\n",
    "\n",
    "    # Assigning bands to variables\n",
    "    B1, B2, B3, B4, B5, B6, B7, B8, B8A, B9, B11, B12 = data\n",
    "\n",
    "    # Calculate indices\n",
    "\n",
    "    # Normalized Difference Vegetation Index (NDVI)\n",
    "    NDVI = (B8 - B4) / (B8 + B4 + 1e-6)\n",
    "\n",
    "    # Enhanced Vegetation Index (EVI)\n",
    "    EVI = 2.5 * ((B8 - B4) / ((B8 + 6 * B4 - 7.5 * B2 + 1) + 1e-6))\n",
    "\n",
    "    # Normalized Difference Water Index (NDWI)\n",
    "    NDWI = (B3 - B8) / (B3 + B8 + 1e-6)\n",
    "\n",
    "    # Normalized Difference Built-up Index (NDBI)\n",
    "    NDBI = (B11 - B8) / (B11 + B8 + 1e-6)\n",
    "\n",
    "    # Normalized Difference Snow Index (NDSI)\n",
    "    NDSI = (B3 - B11) / (B3 + B11 + 1e-6)\n",
    "\n",
    "    # Soil Adjusted Vegetation Index (SAVI)\n",
    "    L = 0.5  # soil brightness correction factor; varies between 0 (very low vegetation) and 1 (dense vegetation)\n",
    "    SAVI = ((B8 - B4) / (B8 + B4 + L + 1e-6)) * (1 + L)\n",
    "\n",
    "    # Calculate MNDWI (Modified Normalized Difference Water Index)\n",
    "    MNDWI = (B3 - B11) / (B3 + B11 + 1e-6)\n",
    "\n",
    "    # Calculate Tasseled Cap Indices (Brightness, Greenness, Wetness)\n",
    "    TCB = 0.2043 * B2 + 0.4158 * B3 + 0.5524 * B4 + 0.5741 * B8 + 0.3124 * B11 + 0.2303 * B12\n",
    "    TCG = -0.1603 * B2 - 0.2819 * B3 - 0.4934 * B4 + 0.7940 * B8 - 0.0002 * B11 - 0.1446 * B12\n",
    "    TCW = 0.0315 * B2 + 0.2021 * B3 + 0.3102 * B4 + 0.1594 * B8 - 0.6806 * B11 - 0.6109 * B12\n",
    "\n",
    "    # These calculated indices can now be used for classification tasks.\n",
    "\n",
    "    # Add a new singleton dimension to the calculated arrays along the first axis\n",
    "    NDVI = np.expand_dims(NDVI, axis=0)\n",
    "    EVI = np.expand_dims(EVI, axis=0)\n",
    "    NDWI = np.expand_dims(NDWI, axis=0)\n",
    "    NDBI = np.expand_dims(NDBI, axis=0)\n",
    "    NDSI = np.expand_dims(NDSI, axis=0)\n",
    "    SAVI = np.expand_dims(SAVI, axis=0)\n",
    "    MNDWI = np.expand_dims(MNDWI, axis=0)\n",
    "    TCB = np.expand_dims(TCB, axis=0)\n",
    "    TCG = np.expand_dims(TCG, axis=0)\n",
    "    TCW = np.expand_dims(TCW, axis=0)\n",
    "\n",
    "    # Stack the arrays along the first dimension to create the enhanced data array\n",
    "    enhanced_data = np.concatenate((data, NDVI, EVI, NDWI, NDBI, NDSI, SAVI, MNDWI, TCB), axis=0)\n",
    "    # Change the data type to float32\n",
    "    enhanced_data = enhanced_data.astype('float32')\n",
    "\n",
    "    # The shape of enhanced_data should be (12 + 10, 64, 64) = (22, 64, 64)\n",
    "    #print(enhanced_data.shape)\n",
    "\n",
    "    # Save the enhanced data as a new .npy file\n",
    "    os.makedirs(os.path.dirname(output_path), exist_ok=True)\n",
    "    np.save(output_path, enhanced_data)\n",
    "\n",
    "\n",
    "def process_folder(input_path, output_path):\n",
    "    for root, dirs, files in os.walk(input_path):\n",
    "        for file in files:\n",
    "            if file.endswith('.npy'):\n",
    "                file_path = os.path.join(root, file)\n",
    "                relative_path = os.path.relpath(file_path, input_path)\n",
    "                output_file_path = os.path.join(output_path, relative_path)\n",
    "                calculate_indices(file_path, output_file_path)\n",
    "        for dir in dirs:\n",
    "            src_dir = os.path.join(root, dir)\n",
    "            dst_dir = os.path.join(output_path, os.path.relpath(src_dir, input_path))\n",
    "            os.makedirs(dst_dir, exist_ok=True)\n",
    "\n",
    "input_folder_path = '/Users/svenschnydrig/Documents/Coding Challenge/data/EuroSAT_MS_NPY_wo_B10_ordered'\n",
    "output_folder_path = '/Users/svenschnydrig/Documents/Coding Challenge/data/EuroSAT_MS_NPY_wo_B10_ordered_features_float32'\n",
    "\n",
    "process_folder(input_folder_path, output_folder_path)"
   ]
  },
  {
   "attachments": {},
   "cell_type": "markdown",
   "metadata": {},
   "source": [
    "## Sanity checks"
   ]
  },
  {
   "cell_type": "code",
   "execution_count": 22,
   "metadata": {},
   "outputs": [
    {
     "name": "stdout",
     "output_type": "stream",
     "text": [
      "12\n"
     ]
    }
   ],
   "source": [
    "print(np.load('/Users/svenschnydrig/Documents/Coding Challenge/data/EuroSAT_MS_NPY_wo_B10_ordered/AnnualCrop/AnnualCrop_1.npy').shape[2])"
   ]
  },
  {
   "cell_type": "code",
   "execution_count": 28,
   "metadata": {},
   "outputs": [
    {
     "name": "stdout",
     "output_type": "stream",
     "text": [
      "64\n"
     ]
    }
   ],
   "source": [
    "print(np.load('/Users/svenschnydrig/Documents/Coding Challenge/data/EuroSAT_MS_NPY/AnnualCrop/AnnualCrop_1.npy').shape[2])"
   ]
  },
  {
   "cell_type": "code",
   "execution_count": 34,
   "metadata": {},
   "outputs": [
    {
     "name": "stdout",
     "output_type": "stream",
     "text": [
      "64\n"
     ]
    }
   ],
   "source": [
    "print(np.load('/Users/svenschnydrig/Documents/Coding Challenge/data/EuroSAT_MS_NPY_wo_B10/AnnualCrop/AnnualCrop_1.npy').shape[2])"
   ]
  },
  {
   "cell_type": "code",
   "execution_count": 53,
   "metadata": {},
   "outputs": [
    {
     "name": "stdout",
     "output_type": "stream",
     "text": [
      "(12, 64, 64)\n"
     ]
    }
   ],
   "source": [
    "print(np.load('/Users/svenschnydrig/Documents/Coding Challenge/data/EuroSAT_MS_NPY_wo_B10/AnnualCrop/AnnualCrop_1.npy').shape)"
   ]
  },
  {
   "cell_type": "code",
   "execution_count": 55,
   "metadata": {},
   "outputs": [
    {
     "name": "stdout",
     "output_type": "stream",
     "text": [
      "(12, 64, 64)\n"
     ]
    }
   ],
   "source": [
    "print(np.load('/Users/svenschnydrig/Documents/Coding Challenge/data/EuroSAT_MS_NPY_wo_B10_ordered/AnnualCrop/AnnualCrop_1.npy').shape)"
   ]
  },
  {
   "cell_type": "code",
   "execution_count": 66,
   "metadata": {},
   "outputs": [
    {
     "name": "stdout",
     "output_type": "stream",
     "text": [
      "(22, 64, 64)\n"
     ]
    }
   ],
   "source": [
    "print(np.load('/Users/svenschnydrig/Documents/Coding Challenge/data/EuroSAT_MS_NPY_wo_B10_ordered_features/AnnualCrop/AnnualCrop_1.npy').shape)"
   ]
  },
  {
   "cell_type": "code",
   "execution_count": 65,
   "metadata": {},
   "outputs": [
    {
     "name": "stdout",
     "output_type": "stream",
     "text": [
      "[[ -96.4278  -96.4278  -99.6261 ... -190.9615 -201.0734 -237.2327]\n",
      " [ -96.4278  -96.4278  -99.6261 ... -190.9615 -201.0734 -237.2327]\n",
      " [-109.3168 -109.3168 -101.8273 ... -200.4063 -195.5637 -226.8679]\n",
      " ...\n",
      " [ 211.3161  211.3161   90.9755 ... -237.409  -235.6347 -223.3827]\n",
      " [ 199.1295  199.1295   86.2611 ... -191.5692 -215.6216 -221.6463]\n",
      " [ 275.8343  275.8343   58.2797 ... -183.3279 -203.9043 -214.7846]]\n"
     ]
    }
   ],
   "source": [
    "print(np.load('/Users/svenschnydrig/Documents/Coding Challenge/data/EuroSAT_MS_NPY_wo_B10_ordered_features/AnnualCrop/AnnualCrop_1.npy')[20])"
   ]
  },
  {
   "cell_type": "code",
   "execution_count": 2,
   "metadata": {},
   "outputs": [
    {
     "name": "stdout",
     "output_type": "stream",
     "text": [
      "float64\n"
     ]
    }
   ],
   "source": [
    "import numpy as np\n",
    "\n",
    "# Load the data from a .npy file\n",
    "data = np.load('/Users/svenschnydrig/Documents/Coding Challenge/data/EuroSAT_MS_NPY_wo_B10_ordered_features/AnnualCrop/AnnualCrop_1.npy')\n",
    "\n",
    "# Get the data type of the second band (index 1)\n",
    "data_type = data[20].dtype\n",
    "\n",
    "print(data_type)"
   ]
  },
  {
   "cell_type": "code",
   "execution_count": 3,
   "metadata": {},
   "outputs": [
    {
     "name": "stdout",
     "output_type": "stream",
     "text": [
      "uint16\n"
     ]
    }
   ],
   "source": [
    "import numpy as np\n",
    "\n",
    "# Load the data from a .npy file\n",
    "data = np.load('/Users/svenschnydrig/Documents/Coding Challenge/data/EuroSAT_MS_NPY_wo_B10_ordered/AnnualCrop/AnnualCrop_1.npy')\n",
    "\n",
    "# Get the data type of the second band (index 1)\n",
    "data_type = data[2].dtype\n",
    "\n",
    "print(data_type)"
   ]
  }
 ],
 "metadata": {
  "kernelspec": {
   "display_name": "eurosat",
   "language": "python",
   "name": "python3"
  },
  "language_info": {
   "codemirror_mode": {
    "name": "ipython",
    "version": 3
   },
   "file_extension": ".py",
   "mimetype": "text/x-python",
   "name": "python",
   "nbconvert_exporter": "python",
   "pygments_lexer": "ipython3",
   "version": "3.9.15"
  },
  "orig_nbformat": 4
 },
 "nbformat": 4,
 "nbformat_minor": 2
}

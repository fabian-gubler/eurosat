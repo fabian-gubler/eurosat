{
 "cells": [
  {
   "cell_type": "code",
   "execution_count": 1,
   "metadata": {},
   "outputs": [],
   "source": [
    "import os\n",
    "import glob\n",
    "import numpy as np\n",
    "import rasterio as rio\n",
    "from rasterio.plot import reshape_as_image\n",
    "import matplotlib.pyplot as plt\n",
    "%matplotlib inline"
   ]
  },
  {
   "attachments": {},
   "cell_type": "markdown",
   "metadata": {},
   "source": [
    "## Convert all images from tif to npy"
   ]
  },
  {
   "attachments": {},
   "cell_type": "markdown",
   "metadata": {},
   "source": [
    "In this code snippet, we first import the necessary libraries and set the input and output folder paths. We create the output folder if it does not exist and then loop through all subdirectories in the input folder. For each subdirectory, we create an output subdirectory and loop through all files within it. We check if a file is a TIFF image and, if so, open it using rasterio, read the image data into a NumPy array, and save the array to a .npy file."
   ]
  },
  {
   "cell_type": "code",
   "execution_count": 2,
   "metadata": {},
   "outputs": [],
   "source": [
    "# Import necessary libraries\n",
    "import os\n",
    "import numpy as np\n",
    "import rasterio\n",
    "\n",
    "# Set input and output folder paths\n",
    "parent_input_folder = '/Users/svenschnydrig/Documents/Coding Challenge/data/EuroSAT_MS'\n",
    "parent_output_folder = '/Users/svenschnydrig/Documents/Coding Challenge/data/EuroSAT_MS_NPY'\n",
    "\n",
    "# Create output folder if it does not exist\n",
    "os.makedirs(parent_output_folder, exist_ok=True)\n",
    "\n",
    "# Loop through all subdirectories in the input folder\n",
    "for subdir in os.listdir(parent_input_folder):\n",
    "    # Set input and output folder paths for the current subdirectory\n",
    "    input_folder = os.path.join(parent_input_folder, subdir)\n",
    "    output_folder = os.path.join(parent_output_folder, subdir)\n",
    "    \n",
    "    # Create output subdirectory if it does not exist\n",
    "    os.makedirs(output_folder, exist_ok=True)\n",
    "\n",
    "    # Loop through all files in the current input subdirectory\n",
    "    for filename in os.listdir(input_folder):\n",
    "        # Check if the file is a TIFF image\n",
    "        if filename.endswith('.tif'):\n",
    "            # Set input and output file paths for the current image\n",
    "            input_filepath = os.path.join(input_folder, filename)\n",
    "            output_filepath = os.path.join(output_folder, filename.replace('.tif', '.npy'))\n",
    "\n",
    "            # Open the input TIFF image using rasterio\n",
    "            with rasterio.open(input_filepath) as src:\n",
    "                # Read the image data into a NumPy array\n",
    "                image_data = src.read()\n",
    "                # Save the NumPy array to a .npy file\n",
    "                np.save(output_filepath, image_data)"
   ]
  },
  {
   "attachments": {},
   "cell_type": "markdown",
   "metadata": {},
   "source": [
    "## Load train data into x array and labels into y array"
   ]
  },
  {
   "cell_type": "code",
   "execution_count": 3,
   "metadata": {},
   "outputs": [
    {
     "name": "stdout",
     "output_type": "stream",
     "text": [
      "AnnualCrop\n",
      "0\n",
      "/Users/svenschnydrig/Documents/Coding Challenge/data/EuroSAT_MS_NPY/AnnualCrop\n",
      "Forest\n",
      "1\n",
      "/Users/svenschnydrig/Documents/Coding Challenge/data/EuroSAT_MS_NPY/Forest\n",
      "HerbaceousVegetation\n",
      "2\n",
      "/Users/svenschnydrig/Documents/Coding Challenge/data/EuroSAT_MS_NPY/HerbaceousVegetation\n",
      "Highway\n",
      "3\n",
      "/Users/svenschnydrig/Documents/Coding Challenge/data/EuroSAT_MS_NPY/Highway\n",
      "Industrial\n",
      "4\n",
      "/Users/svenschnydrig/Documents/Coding Challenge/data/EuroSAT_MS_NPY/Industrial\n",
      "Pasture\n",
      "5\n",
      "/Users/svenschnydrig/Documents/Coding Challenge/data/EuroSAT_MS_NPY/Pasture\n",
      "PermanentCrop\n",
      "6\n",
      "/Users/svenschnydrig/Documents/Coding Challenge/data/EuroSAT_MS_NPY/PermanentCrop\n",
      "Residential\n",
      "7\n",
      "/Users/svenschnydrig/Documents/Coding Challenge/data/EuroSAT_MS_NPY/Residential\n",
      "River\n",
      "8\n",
      "/Users/svenschnydrig/Documents/Coding Challenge/data/EuroSAT_MS_NPY/River\n",
      "SeaLake\n",
      "9\n",
      "/Users/svenschnydrig/Documents/Coding Challenge/data/EuroSAT_MS_NPY/SeaLake\n"
     ]
    }
   ],
   "source": [
    "import os\n",
    "import numpy as np\n",
    "\n",
    "data_dir = \"/Users/svenschnydrig/Documents/Coding Challenge/data/EuroSAT_MS_NPY\"\n",
    "class_names = sorted(os.listdir(data_dir))\n",
    "\n",
    "x = []\n",
    "y = []\n",
    "for i, class_name in enumerate(class_names):\n",
    "    print(class_name)\n",
    "    print(i)\n",
    "    class_dir = os.path.join(data_dir, class_name)\n",
    "    print(class_dir)\n",
    "    for filename in os.listdir(class_dir):\n",
    "        #print(filename)\n",
    "        filepath = os.path.join(class_dir, filename)\n",
    "        #print(filename)\n",
    "        data = np.load(filepath)\n",
    "        x.append(data)\n",
    "        y.append(i)\n",
    "x = np.stack(x, axis=0)\n",
    "y = np.array(y)\n",
    "\n",
    "from tensorflow.keras.utils import to_categorical\n",
    "y = to_categorical(y)\n",
    "np.save('/Users/svenschnydrig/Documents/Coding Challenge/data/preprocessed/y.npy', y)"
   ]
  },
  {
   "attachments": {},
   "cell_type": "markdown",
   "metadata": {},
   "source": [
    "# Load testdata into array x_testset"
   ]
  },
  {
   "cell_type": "code",
   "execution_count": 2,
   "metadata": {},
   "outputs": [],
   "source": [
    "import numpy as np\n",
    "import os\n",
    "import re\n",
    "\n",
    "# initialize an empty list\n",
    "x_testset = []\n",
    "\n",
    "# specify the directory you want to load from\n",
    "directory = '/Users/svenschnydrig/Documents/Coding Challenge/data/testset/test'\n",
    "\n",
    "# function to convert a filename to a number (ignoring the .npy extension)\n",
    "def filename_to_number(filename):\n",
    "    return int(re.sub(r'[^\\d]', '', filename.split('.')[0]))\n",
    "\n",
    "# get a list of all .npy files in the directory\n",
    "files = [f for f in os.listdir(directory) if f.endswith('.npy')]\n",
    "\n",
    "# sort the list of files by the numeric part of the filename\n",
    "files.sort(key=filename_to_number)\n",
    "\n",
    "# loop over the sorted list of files\n",
    "for filename in files:\n",
    "    # load the .npy file and append it to the list\n",
    "    file_path = os.path.join(directory, filename)\n",
    "    #print(file_path)\n",
    "    x_testset.append(np.load(file_path))\n",
    "\n",
    "# convert the list to a numpy array\n",
    "x_testset = np.array(x_testset)"
   ]
  },
  {
   "attachments": {},
   "cell_type": "markdown",
   "metadata": {},
   "source": [
    "## Train Data - change dimension, delete B10 and reorder bands"
   ]
  },
  {
   "cell_type": "code",
   "execution_count": 5,
   "metadata": {},
   "outputs": [],
   "source": [
    "x = np.transpose(x, (0, 2, 3, 1))\n",
    "x.shape\n",
    "\n",
    "#(num_images, height, width, bands)\n",
    "x = np.delete(x, 9, axis=3)\n",
    "\n",
    "# your current order: B1, B2, B3, B4, B5, B6, B7, B8, B9, B11, B12, B8A\n",
    "current_order = np.array([0, 1, 2, 3, 4, 5, 6, 7, 8, 9, 10, 11])\n",
    "# your desired order: B1, B2, B3, B4 ,B5, B6, B7, B8, B8A, B9, B11, B12\n",
    "desired_order = np.array([0, 1, 2, 3, 4, 5, 6, 7, 11, 8, 9, 10])\n",
    "\n",
    "# reorder the bands\n",
    "x = x[:, :, :, desired_order]"
   ]
  },
  {
   "attachments": {},
   "cell_type": "markdown",
   "metadata": {},
   "source": [
    "## Add band index features"
   ]
  },
  {
   "cell_type": "code",
   "execution_count": 3,
   "metadata": {},
   "outputs": [
    {
     "ename": "NameError",
     "evalue": "name 'x' is not defined",
     "output_type": "error",
     "traceback": [
      "\u001b[0;31m---------------------------------------------------------------------------\u001b[0m",
      "\u001b[0;31mNameError\u001b[0m                                 Traceback (most recent call last)",
      "Cell \u001b[0;32mIn[3], line 46\u001b[0m\n\u001b[1;32m     42\u001b[0m \u001b[39m# Now we can call this function with our ndarray\u001b[39;00m\n\u001b[1;32m     43\u001b[0m \u001b[39m#x = calculate_indices(x)\u001b[39;00m\n\u001b[1;32m     44\u001b[0m x_testset \u001b[39m=\u001b[39m calculate_indices(x_testset)\n\u001b[0;32m---> 46\u001b[0m x\u001b[39m.\u001b[39mdtype\n",
      "\u001b[0;31mNameError\u001b[0m: name 'x' is not defined"
     ]
    }
   ],
   "source": [
    "import numpy as np\n",
    "\n",
    "# B1, B2, B3, B4, B5, B6, B7, B8, B8A, B9, B11, B12\n",
    "# 0, 1, 2, 3, 4, 5, 6, 7, 8, 9, 10, 11\n",
    "\n",
    "def calculate_indices(x):\n",
    "    # Define a very small number\n",
    "    epsilon = np.float32(1e-6)\n",
    "\n",
    "    # Assign bands to variables and convert them to float32\n",
    "    blue = x[..., 1].astype(np.float32)\n",
    "    green = x[..., 2].astype(np.float32)\n",
    "    red = x[..., 3].astype(np.float32)\n",
    "    nir = x[..., 7].astype(np.float32)\n",
    "    swir1 = x[..., 10].astype(np.float32)\n",
    "    swir2 = x[..., 11].astype(np.float32)\n",
    "\n",
    "    # Calculate indices\n",
    "    NDVI = (nir - red) / (nir + red + epsilon)\n",
    "    # EVI = 2.5 * ((nir - red) / ((nir + 6*red - 7.5*blue) + 1 + epsilon)) something is wrong here\n",
    "    NDWI = (green - nir) / (green + nir + epsilon)\n",
    "    NDBI = (swir1 - nir) / (swir1 + nir + epsilon)\n",
    "    NDSI = (green - swir1) / (green + swir1 + epsilon)\n",
    "    L = np.float32(0.5)  # soil brightness correction factor\n",
    "    SAVI = ((nir - red) / (nir + red + L)) * (1 + L)\n",
    "    MNDWI = (green - swir1) / (green + swir1 + epsilon)\n",
    "\n",
    "    # Reshape the indices to match the shape of the original data\n",
    "    NDVI = NDVI[..., np.newaxis]\n",
    "    #EVI = EVI[..., np.newaxis]\n",
    "    NDWI = NDWI[..., np.newaxis]\n",
    "    NDBI = NDBI[..., np.newaxis]\n",
    "    NDSI = NDSI[..., np.newaxis]\n",
    "    SAVI = SAVI[..., np.newaxis]\n",
    "    MNDWI = MNDWI[..., np.newaxis]\n",
    "\n",
    "    # Concatenate the original data with the new bands\n",
    "    x = np.concatenate((x, NDVI, NDWI, NDBI, NDSI, SAVI, MNDWI), axis=-1)\n",
    "\n",
    "    return x\n",
    "\n",
    "# Now we can call this function with our ndarray\n",
    "#x = calculate_indices(x)\n",
    "x_testset = calculate_indices(x_testset)"
   ]
  },
  {
   "cell_type": "code",
   "execution_count": 4,
   "metadata": {},
   "outputs": [
    {
     "data": {
      "text/plain": [
       "dtype('float32')"
      ]
     },
     "execution_count": 4,
     "metadata": {},
     "output_type": "execute_result"
    }
   ],
   "source": [
    "x_testset.dtype"
   ]
  },
  {
   "attachments": {},
   "cell_type": "markdown",
   "metadata": {},
   "source": [
    "## Get overview of data"
   ]
  },
  {
   "cell_type": "code",
   "execution_count": 8,
   "metadata": {},
   "outputs": [
    {
     "name": "stdout",
     "output_type": "stream",
     "text": [
      "Statistics for band 1:\n",
      "Min: 808.0\n",
      "Mean: 1353.7244873046875\n",
      "Median: 1311.0\n",
      "Max: 17720.0\n",
      "\n",
      "Statistics for band 2:\n",
      "Min: 0.0\n",
      "Mean: 1117.203125\n",
      "Median: 1045.0\n",
      "Max: 28000.0\n",
      "\n",
      "Statistics for band 3:\n",
      "Min: 0.0\n",
      "Mean: 1041.880859375\n",
      "Median: 971.0\n",
      "Max: 28000.0\n",
      "\n",
      "Statistics for band 4:\n",
      "Min: 0.0\n",
      "Mean: 946.5562133789062\n",
      "Median: 793.0\n",
      "Max: 28000.0\n",
      "\n",
      "Statistics for band 5:\n",
      "Min: 174.0\n",
      "Mean: 1199.1888427734375\n",
      "Median: 1145.0\n",
      "Max: 24008.0\n",
      "\n",
      "Statistics for band 6:\n",
      "Min: 153.0\n",
      "Mean: 2003.0018310546875\n",
      "Median: 2102.0\n",
      "Max: 27791.0\n",
      "\n",
      "Statistics for band 7:\n",
      "Min: 128.0\n",
      "Mean: 2374.013671875\n",
      "Median: 2467.0\n",
      "Max: 28001.0\n",
      "\n",
      "Statistics for band 8:\n",
      "Min: 0.0\n",
      "Mean: 2301.217529296875\n",
      "Median: 2403.0\n",
      "Max: 28003.0\n",
      "\n",
      "Statistics for band 9:\n",
      "Min: 91.0\n",
      "Mean: 2599.775634765625\n",
      "Median: 2730.0\n",
      "Max: 28000.0\n",
      "\n",
      "Statistics for band 10:\n",
      "Min: 40.0\n",
      "Mean: 732.18310546875\n",
      "Median: 711.0\n",
      "Max: 15384.0\n",
      "\n",
      "Statistics for band 11:\n",
      "Min: 5.0\n",
      "Mean: 1820.7032470703125\n",
      "Median: 1826.0\n",
      "Max: 24704.0\n",
      "\n",
      "Statistics for band 12:\n",
      "Min: 1.0\n",
      "Mean: 1118.2039794921875\n",
      "Median: 1031.0\n",
      "Max: 22210.0\n",
      "\n",
      "Statistics for band 13:\n",
      "Min: -1.0\n",
      "Mean: 0.348588228225708\n",
      "Median: 0.37072017788887024\n",
      "Max: 1.0\n",
      "\n",
      "Statistics for band 14:\n",
      "Min: -1.0\n",
      "Mean: -0.2825546860694885\n",
      "Median: -0.3636966645717621\n",
      "Max: 1.0\n",
      "\n",
      "Statistics for band 15:\n",
      "Min: -0.9723756909370422\n",
      "Mean: -0.17661213874816895\n",
      "Median: -0.1397927701473236\n",
      "Max: 1.0\n",
      "\n",
      "Statistics for band 16:\n",
      "Min: -1.0\n",
      "Mean: -0.15613102912902832\n",
      "Median: -0.3086419701576233\n",
      "Max: 0.9911829829216003\n",
      "\n",
      "Statistics for band 17:\n",
      "Min: -1.499755620956421\n",
      "Mean: 0.5228354930877686\n",
      "Median: 0.5559912919998169\n",
      "Max: 1.4996955394744873\n",
      "\n",
      "Statistics for band 18:\n",
      "Min: -1.0\n",
      "Mean: -0.15613102912902832\n",
      "Median: -0.3086419701576233\n",
      "Max: 0.9911829829216003\n",
      "\n"
     ]
    }
   ],
   "source": [
    "import numpy as np\n",
    "\n",
    "# Set printing options.\n",
    "np.set_printoptions(suppress=True, precision=2)\n",
    "\n",
    "def compute_band_statistics(x):\n",
    "    # Compute the band statistics: min, mean, median, and max.\n",
    "    band_min = np.min(x, axis=(0, 1, 2))\n",
    "    band_mean = np.mean(x, axis=(0, 1, 2))\n",
    "    band_median = np.median(x, axis=(0, 1, 2))\n",
    "    band_max = np.max(x, axis=(0, 1, 2))\n",
    "\n",
    "    return band_min, band_mean, band_median, band_max\n",
    "\n",
    "band_min, band_mean, band_median, band_max = compute_band_statistics(x)\n",
    "\n",
    "# Print the statistics for each band.\n",
    "for i in range(len(band_min)):\n",
    "    print(f\"Statistics for band {i+1}:\")\n",
    "    print(f\"Min: {band_min[i]}\")\n",
    "    print(f\"Mean: {band_mean[i]}\")\n",
    "    print(f\"Median: {band_median[i]}\")\n",
    "    print(f\"Max: {band_max[i]}\")\n",
    "    print()"
   ]
  },
  {
   "cell_type": "code",
   "execution_count": 9,
   "metadata": {},
   "outputs": [
    {
     "name": "stdout",
     "output_type": "stream",
     "text": [
      "Statistics for band 1:\n",
      "Min: 1.0\n",
      "Mean: 382.1849670410156\n",
      "Median: 272.0\n",
      "Max: 9661.0\n",
      "\n",
      "Statistics for band 2:\n",
      "Min: 0.0\n",
      "Mean: 385.752197265625\n",
      "Median: 258.0\n",
      "Max: 20506.0\n",
      "\n",
      "Statistics for band 3:\n",
      "Min: 0.0\n",
      "Mean: 616.7991333007812\n",
      "Median: 491.0\n",
      "Max: 18894.0\n",
      "\n",
      "Statistics for band 4:\n",
      "Min: 0.0\n",
      "Mean: 549.4186401367188\n",
      "Median: 322.0\n",
      "Max: 17826.0\n",
      "\n",
      "Statistics for band 5:\n",
      "Min: 1.0\n",
      "Mean: 924.3895874023438\n",
      "Median: 857.0\n",
      "Max: 16360.0\n",
      "\n",
      "Statistics for band 6:\n",
      "Min: 1.0\n",
      "Mean: 1803.6802978515625\n",
      "Median: 1898.0\n",
      "Max: 16094.0\n",
      "\n",
      "Statistics for band 7:\n",
      "Min: 1.0\n",
      "Mean: 2096.025390625\n",
      "Median: 2156.0\n",
      "Max: 16243.0\n",
      "\n",
      "Statistics for band 8:\n",
      "Min: 0.0\n",
      "Mean: 2183.479736328125\n",
      "Median: 2251.0\n",
      "Max: 16441.0\n",
      "\n",
      "Statistics for band 9:\n",
      "Min: 1.0\n",
      "Mean: 2269.299072265625\n",
      "Median: 2361.0\n",
      "Max: 14736.0\n",
      "\n",
      "Statistics for band 10:\n",
      "Min: 1.0\n",
      "Mean: 2264.45556640625\n",
      "Median: 2385.0\n",
      "Max: 8465.0\n",
      "\n",
      "Statistics for band 11:\n",
      "Min: 1.0\n",
      "Mean: 1475.5660400390625\n",
      "Median: 1449.0\n",
      "Max: 15401.0\n",
      "\n",
      "Statistics for band 12:\n",
      "Min: 6.0\n",
      "Mean: 940.8421020507812\n",
      "Median: 772.0\n",
      "Max: 15228.0\n",
      "\n",
      "Statistics for band 13:\n",
      "Min: -0.9974842667579651\n",
      "Mean: 0.4595947563648224\n",
      "Median: 0.5534648895263672\n",
      "Max: 0.9995495676994324\n",
      "\n",
      "Statistics for band 14:\n",
      "Min: -0.9994936585426331\n",
      "Mean: -0.39341026544570923\n",
      "Median: -0.5532646179199219\n",
      "Max: 0.9994385242462158\n",
      "\n",
      "Statistics for band 15:\n",
      "Min: -0.9805615544319153\n",
      "Mean: -0.1637541800737381\n",
      "Median: -0.15201793611049652\n",
      "Max: 1.0\n",
      "\n",
      "Statistics for band 16:\n",
      "Min: -1.0\n",
      "Mean: -0.2847502529621124\n",
      "Median: -0.43791821599006653\n",
      "Max: 0.993000864982605\n",
      "\n",
      "Statistics for band 17:\n",
      "Min: -1.495285987854004\n",
      "Mean: 0.6460952758789062\n",
      "Median: 0.8300468921661377\n",
      "Max: 1.4991555213928223\n",
      "\n",
      "Statistics for band 18:\n",
      "Min: -1.0\n",
      "Mean: -0.2847502529621124\n",
      "Median: -0.43791821599006653\n",
      "Max: 0.993000864982605\n",
      "\n"
     ]
    }
   ],
   "source": [
    "import numpy as np\n",
    "\n",
    "# Set printing options.\n",
    "np.set_printoptions(suppress=True, precision=2)\n",
    "\n",
    "def compute_band_statistics(x):\n",
    "    # Compute the band statistics: min, mean, median, and max.\n",
    "    band_min = np.min(x, axis=(0, 1, 2))\n",
    "    band_mean = np.mean(x, axis=(0, 1, 2))\n",
    "    band_median = np.median(x, axis=(0, 1, 2))\n",
    "    band_max = np.max(x, axis=(0, 1, 2))\n",
    "\n",
    "    return band_min, band_mean, band_median, band_max\n",
    "\n",
    "band_min, band_mean, band_median, band_max = compute_band_statistics(x_testset)\n",
    "\n",
    "# Print the statistics for each band.\n",
    "for i in range(len(band_min)):\n",
    "    print(f\"Statistics for band {i+1}:\")\n",
    "    print(f\"Min: {band_min[i]}\")\n",
    "    print(f\"Mean: {band_mean[i]}\")\n",
    "    print(f\"Median: {band_median[i]}\")\n",
    "    print(f\"Max: {band_max[i]}\")\n",
    "    print()"
   ]
  },
  {
   "attachments": {},
   "cell_type": "markdown",
   "metadata": {},
   "source": [
    "## Normalise data"
   ]
  },
  {
   "cell_type": "code",
   "execution_count": 5,
   "metadata": {},
   "outputs": [],
   "source": [
    "x_original = x.copy()\n",
    "x_testset_original = x_testset.copy()"
   ]
  },
  {
   "attachments": {},
   "cell_type": "markdown",
   "metadata": {},
   "source": [
    "# Normalise by constant division / 28000"
   ]
  },
  {
   "cell_type": "code",
   "execution_count": 11,
   "metadata": {},
   "outputs": [],
   "source": [
    "x[..., :12] = x[..., :12] / 28000.0\n",
    "x_testset[..., :12] = x_testset[..., :12] / 28000.0\n",
    "\n",
    "np.save('/Users/svenschnydrig/Documents/Coding Challenge/data/preprocessed/x_28k.npy', x)\n",
    "np.save('/Users/svenschnydrig/Documents/Coding Challenge/data/preprocessed/x_testset_28k.npy', x_testset)"
   ]
  },
  {
   "attachments": {},
   "cell_type": "markdown",
   "metadata": {},
   "source": [
    "## Normalise by dividing by max value of each band"
   ]
  },
  {
   "cell_type": "code",
   "execution_count": 13,
   "metadata": {},
   "outputs": [],
   "source": [
    "x = x_original.copy()\n",
    "x_testset = x_testset_original.copy()\n",
    "\n",
    "# Assuming x is your data array\n",
    "for i in range(12):\n",
    "    max_val = np.max(x[..., i])\n",
    "    x[..., i] = x[..., i] / max_val\n",
    "    x_testset[..., i] = x_testset[..., i] / max_val\n",
    "\n",
    "np.save('/Users/svenschnydrig/Documents/Coding Challenge/data/preprocessed/x_max.npy', x)\n",
    "np.save('/Users/svenschnydrig/Documents/Coding Challenge/data/preprocessed/x_testset_max.npy', x_testset)"
   ]
  },
  {
   "attachments": {},
   "cell_type": "markdown",
   "metadata": {},
   "source": [
    "## Normalising by dividing by max value of test bands"
   ]
  },
  {
   "cell_type": "code",
   "execution_count": 6,
   "metadata": {},
   "outputs": [],
   "source": [
    "x_testset = x_testset_original.copy()\n",
    "\n",
    "# Assuming x is your data array\n",
    "for i in range(12):\n",
    "    max_val = np.max(x_testset[..., i])\n",
    "    x_testset[..., i] = x_testset[..., i] / max_val\n",
    "\n",
    "np.save('/Users/svenschnydrig/Documents/Coding Challenge/data/preprocessed/x_testset_max_test.npy', x_testset)"
   ]
  },
  {
   "attachments": {},
   "cell_type": "markdown",
   "metadata": {},
   "source": [
    "## Min-Max 0-1"
   ]
  },
  {
   "cell_type": "code",
   "execution_count": 14,
   "metadata": {},
   "outputs": [],
   "source": [
    "x = x_original.copy()\n",
    "x_testset = x_testset_original.copy()\n",
    "\n",
    "# Get the minimum and maximum pixel values for the first twelve bands in each image.\n",
    "min_vals = np.min(x[..., :12], axis=(0, 1, 2), keepdims=True)\n",
    "max_vals = np.max(x[..., :12], axis=(0, 1, 2), keepdims=True)\n",
    "\n",
    "# Subtract the minimum and divide by the range to normalize between 0 and 1.\n",
    "x[..., :12] = (x[..., :12] - min_vals) / (max_vals - min_vals)\n",
    "x_testset[..., :12] = (x_testset[..., :12] - min_vals) / (max_vals - min_vals)\n",
    "\n",
    "np.save('/Users/svenschnydrig/Documents/Coding Challenge/data/preprocessed/x_minmax_0_1.npy', x)\n",
    "np.save('/Users/svenschnydrig/Documents/Coding Challenge/data/preprocessed/x_testset_minmax_0_1.npy', x_testset)"
   ]
  },
  {
   "attachments": {},
   "cell_type": "markdown",
   "metadata": {},
   "source": [
    "## Min-Max -1-1"
   ]
  },
  {
   "cell_type": "code",
   "execution_count": 15,
   "metadata": {},
   "outputs": [],
   "source": [
    "x = x_original.copy()\n",
    "x_testset = x_testset_original.copy()\n",
    "\n",
    "# Get the minimum and maximum pixel values for the first twelve bands in each image.\n",
    "min_vals = np.min(x[..., :12], axis=(0, 1, 2), keepdims=True)\n",
    "max_vals = np.max(x[..., :12], axis=(0, 1, 2), keepdims=True)\n",
    "\n",
    "# Subtract the minimum, divide by the range, shift by -0.5 and multiply by 2.\n",
    "# This will normalize the data between -1 and 1.\n",
    "x[..., :12] = 2 * ((x[..., :12] - min_vals) / (max_vals - min_vals)) - 1\n",
    "x_testset[..., :12] = 2 * ((x_testset[..., :12] - min_vals) / (max_vals - min_vals)) - 1\n",
    "\n",
    "np.save('/Users/svenschnydrig/Documents/Coding Challenge/data/preprocessed/x_minmax_-1_1.npy', x)\n",
    "np.save('/Users/svenschnydrig/Documents/Coding Challenge/data/preprocessed/x_testset_minmax_-1_1.npy', x_testset)"
   ]
  },
  {
   "attachments": {},
   "cell_type": "markdown",
   "metadata": {},
   "source": [
    "## Standard scaler"
   ]
  },
  {
   "cell_type": "code",
   "execution_count": 16,
   "metadata": {},
   "outputs": [],
   "source": [
    "x = x_original.copy()\n",
    "x_testset = x_testset_original.copy()\n",
    "\n",
    "# Get the mean and standard deviation for the first twelve bands across all images.\n",
    "mean_vals = np.mean(x[..., :12], axis=(0, 1, 2), keepdims=True)\n",
    "std_vals = np.std(x[..., :12], axis=(0, 1, 2), keepdims=True)\n",
    "\n",
    "# Subtract the mean and divide by the standard deviation for standard scaling.\n",
    "x[..., :12] = (x[..., :12] - mean_vals) / std_vals\n",
    "x_testset[..., :12] = (x_testset[..., :12] - mean_vals) / std_vals\n",
    "\n",
    "np.save('/Users/svenschnydrig/Documents/Coding Challenge/data/preprocessed/x_std.npy', x)\n",
    "np.save('/Users/svenschnydrig/Documents/Coding Challenge/data/preprocessed/x_testset_std.npy', x_testset)"
   ]
  },
  {
   "attachments": {},
   "cell_type": "markdown",
   "metadata": {},
   "source": [
    "## Normalise all bands instead of just first 12 bands"
   ]
  },
  {
   "attachments": {},
   "cell_type": "markdown",
   "metadata": {},
   "source": [
    "### min max"
   ]
  },
  {
   "cell_type": "code",
   "execution_count": 17,
   "metadata": {},
   "outputs": [],
   "source": [
    "x = x_original.copy()\n",
    "x_testset = x_testset_original.copy()\n",
    "\n",
    "# Get the minimum and maximum pixel values for each band in each image.\n",
    "min_vals = np.min(x, axis=(0, 1, 2), keepdims=True)\n",
    "max_vals = np.max(x, axis=(0, 1, 2), keepdims=True)\n",
    "\n",
    "# Subtract the minimum and divide by the range to normalize between 0 and 1.\n",
    "x = (x - min_vals) / (max_vals - min_vals)\n",
    "x_testset = (x_testset - min_vals) / (max_vals - min_vals)\n",
    "\n",
    "np.save('/Users/svenschnydrig/Documents/Coding Challenge/data/preprocessed/x_minmax_0_1_all.npy', x)\n",
    "np.save('/Users/svenschnydrig/Documents/Coding Challenge/data/preprocessed/x_testset_minmax_0_1_all.npy', x_testset)"
   ]
  },
  {
   "attachments": {},
   "cell_type": "markdown",
   "metadata": {},
   "source": [
    "### standard"
   ]
  },
  {
   "cell_type": "code",
   "execution_count": 18,
   "metadata": {},
   "outputs": [],
   "source": [
    "x = x_original.copy()\n",
    "x_testset = x_testset_original.copy()\n",
    "\n",
    "# Get the mean and standard deviation for each band across all images.\n",
    "mean_vals = np.mean(x, axis=(0, 1, 2), keepdims=True)\n",
    "std_vals = np.std(x, axis=(0, 1, 2), keepdims=True)\n",
    "\n",
    "# Subtract the mean and divide by the standard deviation for standard scaling.\n",
    "x = (x - mean_vals) / std_vals\n",
    "x_testset = (x_testset - mean_vals) / std_vals\n",
    "\n",
    "np.save('/Users/svenschnydrig/Documents/Coding Challenge/data/preprocessed/x_std_all.npy', x)\n",
    "np.save('/Users/svenschnydrig/Documents/Coding Challenge/data/preprocessed/x_testset_std_all.npy', x_testset)"
   ]
  }
 ],
 "metadata": {
  "kernelspec": {
   "display_name": "eurosat-10",
   "language": "python",
   "name": "python3"
  },
  "language_info": {
   "codemirror_mode": {
    "name": "ipython",
    "version": 3
   },
   "file_extension": ".py",
   "mimetype": "text/x-python",
   "name": "python",
   "nbconvert_exporter": "python",
   "pygments_lexer": "ipython3",
   "version": "3.10.10"
  },
  "orig_nbformat": 4
 },
 "nbformat": 4,
 "nbformat_minor": 2
}

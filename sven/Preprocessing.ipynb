{
 "cells": [
  {
   "cell_type": "code",
   "execution_count": 2,
   "metadata": {},
   "outputs": [],
   "source": [
    "import os\n",
    "import glob\n",
    "import numpy as np\n",
    "import rasterio as rio\n",
    "from rasterio.plot import reshape_as_image\n",
    "import matplotlib.pyplot as plt\n",
    "%matplotlib inline"
   ]
  },
  {
   "attachments": {},
   "cell_type": "markdown",
   "metadata": {},
   "source": [
    "## Convert all images from tif to npy"
   ]
  },
  {
   "cell_type": "code",
   "execution_count": 14,
   "metadata": {},
   "outputs": [],
   "source": [
    "import os\n",
    "import numpy as np\n",
    "import rasterio\n",
    "\n",
    "parent_input_folder = '/Users/svenschnydrig/Documents/Coding Challenge/data/EuroSAT_MS'\n",
    "parent_output_folder = '/Users/svenschnydrig/Documents/Coding Challenge/data/EuroSAT_MS_NPY'\n",
    "\n",
    "os.makedirs(parent_output_folder, exist_ok=True)\n",
    "\n",
    "for subdir in os.listdir(parent_input_folder):\n",
    "    input_folder = os.path.join(parent_input_folder, subdir)\n",
    "    output_folder = os.path.join(parent_output_folder, subdir)\n",
    "    os.makedirs(output_folder, exist_ok=True)\n",
    "\n",
    "    for filename in os.listdir(input_folder):\n",
    "        if filename.endswith('.tif'):\n",
    "            input_filepath = os.path.join(input_folder, filename)\n",
    "            output_filepath = os.path.join(output_folder, filename.replace('.tif', '.npy'))\n",
    "\n",
    "            with rasterio.open(input_filepath) as src:\n",
    "                image_data = src.read()\n",
    "                np.save(output_filepath, image_data)"
   ]
  },
  {
   "attachments": {},
   "cell_type": "markdown",
   "metadata": {},
   "source": [
    "## Remove band 10 from train data"
   ]
  },
  {
   "cell_type": "code",
   "execution_count": 15,
   "metadata": {},
   "outputs": [],
   "source": [
    "parent_input_folder = '/Users/svenschnydrig/Documents/Coding Challenge/data/EuroSAT_MS_NPY'\n",
    "parent_output_folder = '/Users/svenschnydrig/Documents/Coding Challenge/data/EuroSAT_MS_NPY_wo_B10'\n",
    "\n",
    "os.makedirs(parent_output_folder, exist_ok=True)\n",
    "\n",
    "for subdir in os.listdir(parent_input_folder):\n",
    "    input_folder = os.path.join(parent_input_folder, subdir)\n",
    "    output_folder = os.path.join(parent_output_folder, subdir)\n",
    "    os.makedirs(output_folder, exist_ok=True)\n",
    "\n",
    "    for filename in os.listdir(input_folder):\n",
    "        if filename.endswith('.npy'):\n",
    "            input_filepath = os.path.join(input_folder, filename)\n",
    "            output_filepath = os.path.join(output_folder, filename)\n",
    "\n",
    "            image_data = np.load(input_filepath)\n",
    "            image_data_no_b10 = np.delete(image_data, 9, axis=0)  # Remove B10 band (assuming it's the 10th band)\n",
    "            np.save(output_filepath, image_data_no_b10)"
   ]
  },
  {
   "attachments": {},
   "cell_type": "markdown",
   "metadata": {},
   "source": [
    "## Sanity check"
   ]
  },
  {
   "cell_type": "code",
   "execution_count": 16,
   "metadata": {},
   "outputs": [
    {
     "name": "stdout",
     "output_type": "stream",
     "text": [
      "12\n"
     ]
    }
   ],
   "source": [
    "# Load the .npy file\n",
    "image_data = np.load(\"/Users/svenschnydrig/Documents/Coding Challenge/data/EuroSAT_MS_NPY_wo_B10/AnnualCrop/AnnualCrop_1.npy\")\n",
    "\n",
    "# Get the number of bands (assuming bands are in the first dimension)\n",
    "print(image_data.shape[0])"
   ]
  },
  {
   "cell_type": "code",
   "execution_count": 17,
   "metadata": {},
   "outputs": [
    {
     "name": "stdout",
     "output_type": "stream",
     "text": [
      "13\n"
     ]
    }
   ],
   "source": [
    "# Load the .npy file\n",
    "image_data = np.load(\"/Users/svenschnydrig/Documents/Coding Challenge/data/EuroSAT_MS_NPY/AnnualCrop/AnnualCrop_1.npy\")\n",
    "\n",
    "# Get the number of bands (assuming bands are in the first dimension)\n",
    "print(image_data.shape[0])"
   ]
  },
  {
   "attachments": {},
   "cell_type": "markdown",
   "metadata": {},
   "source": [
    "## Fix differing band order between train and test data"
   ]
  },
  {
   "cell_type": "code",
   "execution_count": 37,
   "metadata": {},
   "outputs": [],
   "source": [
    "import numpy as np\n",
    "import os\n",
    "import shutil\n",
    "\n",
    "def change_band_order(data):\n",
    "    original_order = [0, 1, 2, 3, 4, 5, 6, 7, 8, 9, 10, 11]\n",
    "    desired_order = [0, 1, 2, 3, 4, 5, 6, 7, 11, 8, 9, 10]\n",
    "    \n",
    "    ordered_data = np.empty_like(data)\n",
    "    for i, band_idx in enumerate(desired_order):\n",
    "        ordered_data[i] = data[band_idx]\n",
    "        \n",
    "    return ordered_data\n",
    "\n",
    "def process_images(source_folder, dest_folder):\n",
    "    for root, _, files in os.walk(source_folder):\n",
    "        for file in files:\n",
    "            if file.endswith(\".npy\"):\n",
    "                src_path = os.path.join(root, file)\n",
    "                rel_path = os.path.relpath(root, source_folder)\n",
    "                dest_subfolder = os.path.join(dest_folder, rel_path)\n",
    "                dest_path = os.path.join(dest_subfolder, file)\n",
    "\n",
    "                os.makedirs(dest_subfolder, exist_ok=True)\n",
    "                image_data = np.load(src_path)\n",
    "                ordered_data = change_band_order(image_data)\n",
    "                np.save(dest_path, ordered_data)\n",
    "\n",
    "source_folder = '/Users/svenschnydrig/Documents/Coding Challenge/data/EuroSAT_MS_NPY_wo_B10'\n",
    "ordered_folder = '/Users/svenschnydrig/Documents/Coding Challenge/data/EuroSAT_MS_NPY_wo_B10_ordered'\n",
    "\n",
    "if os.path.exists(ordered_folder):\n",
    "    shutil.rmtree(ordered_folder)\n",
    "\n",
    "process_images(source_folder, ordered_folder)\n"
   ]
  },
  {
   "attachments": {},
   "cell_type": "markdown",
   "metadata": {},
   "source": [
    "## Sanity check"
   ]
  },
  {
   "cell_type": "code",
   "execution_count": 41,
   "metadata": {},
   "outputs": [
    {
     "name": "stdout",
     "output_type": "stream",
     "text": [
      "[[2319 2319 2306 ... 1648 1598 1580]\n",
      " [2319 2319 2306 ... 1648 1598 1580]\n",
      " [2299 2299 2286 ... 1647 1599 1581]\n",
      " ...\n",
      " [2584 2584 2305 ... 1550 1541 1539]\n",
      " [2445 2445 2197 ... 1579 1574 1574]\n",
      " [2359 2359 2131 ... 1593 1589 1589]]\n"
     ]
    }
   ],
   "source": [
    "print(np.load('/Users/svenschnydrig/Documents/Coding Challenge/data/EuroSAT_MS_NPY_wo_B10/AnnualCrop/AnnualCrop_1.npy')[11])"
   ]
  },
  {
   "cell_type": "code",
   "execution_count": 42,
   "metadata": {},
   "outputs": [
    {
     "name": "stdout",
     "output_type": "stream",
     "text": [
      "[[2319 2319 2306 ... 1648 1598 1580]\n",
      " [2319 2319 2306 ... 1648 1598 1580]\n",
      " [2299 2299 2286 ... 1647 1599 1581]\n",
      " ...\n",
      " [2584 2584 2305 ... 1550 1541 1539]\n",
      " [2445 2445 2197 ... 1579 1574 1574]\n",
      " [2359 2359 2131 ... 1593 1589 1589]]\n"
     ]
    }
   ],
   "source": [
    "print(np.load('/Users/svenschnydrig/Documents/Coding Challenge/data/EuroSAT_MS_NPY_wo_B10_ordered/AnnualCrop/AnnualCrop_1.npy')[8])"
   ]
  }
 ],
 "metadata": {
  "kernelspec": {
   "display_name": "eurosat",
   "language": "python",
   "name": "python3"
  },
  "language_info": {
   "codemirror_mode": {
    "name": "ipython",
    "version": 3
   },
   "file_extension": ".py",
   "mimetype": "text/x-python",
   "name": "python",
   "nbconvert_exporter": "python",
   "pygments_lexer": "ipython3",
   "version": "3.9.15"
  },
  "orig_nbformat": 4
 },
 "nbformat": 4,
 "nbformat_minor": 2
}

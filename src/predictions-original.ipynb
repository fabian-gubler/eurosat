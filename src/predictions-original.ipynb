{
 "cells": [
  {
   "cell_type": "code",
   "execution_count": 5,
   "metadata": {},
   "outputs": [
    {
     "name": "stdout",
     "output_type": "stream",
     "text": [
      "133/133 [==============================] - 42s 220ms/step\n"
     ]
    }
   ],
   "source": [
    "import tensorflow as tf\n",
    "import numpy as np\n",
    "import pandas as pd\n",
    "\n",
    "# Load the model\n",
    "name = \"EfficientNetB7_64x64x20_rot_20_shear_2.h5\"\n",
    "model = tf.keras.models.load_model(name)\n",
    "\n",
    "# Assume that x_testset is your test dataset\n",
    "# And we normalize it in the same way as you did for your training set\n",
    "# x_testset = ...\n",
    "\n",
    "x_testset = np.load('/Users/svenschnydrig/Documents/Coding Challenge/data/x_testset.npy')\n",
    "\n",
    "# Define the classes\n",
    "classes = [\n",
    "    \"AnnualCrop\",\n",
    "    \"Forest\",\n",
    "    \"HerbaceousVegetation\",\n",
    "    \"Highway\",\n",
    "    \"Industrial\",\n",
    "    \"Pasture\",\n",
    "    \"PermanentCrop\",\n",
    "    \"Residential\",\n",
    "    \"River\",\n",
    "    \"SeaLake\",\n",
    "]\n",
    "\n",
    "# Make predictions\n",
    "predictions = model.predict(x_testset)\n",
    "\n",
    "# Get the class with highest probability for each test image\n",
    "predicted_classes = np.argmax(predictions, axis=1)\n",
    "\n",
    "# Map the class indices to actual class names\n",
    "predicted_class_names = [classes[i] for i in predicted_classes]\n",
    "\n",
    "# Create a DataFrame for the test IDs and their predicted labels\n",
    "df = pd.DataFrame(data={\n",
    "    'test_id': np.arange(len(predicted_class_names)),\n",
    "    'label': predicted_class_names\n",
    "})\n",
    "\n",
    "# Save the DataFrame to a CSV file\n",
    "df.to_csv(name+'.csv', index=False)"
   ]
  }
 ],
 "metadata": {
  "kernelspec": {
   "display_name": "eurosat-10",
   "language": "python",
   "name": "python3"
  },
  "language_info": {
   "codemirror_mode": {
    "name": "ipython",
    "version": 3
   },
   "file_extension": ".py",
   "mimetype": "text/x-python",
   "name": "python",
   "nbconvert_exporter": "python",
   "pygments_lexer": "ipython3",
   "version": "3.10.10"
  },
  "orig_nbformat": 4
 },
 "nbformat": 4,
 "nbformat_minor": 2
}
